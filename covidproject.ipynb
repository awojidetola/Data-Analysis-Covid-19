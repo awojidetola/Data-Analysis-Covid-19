{
 "cells": [
  {
   "cell_type": "markdown",
   "metadata": {},
   "source": [
    "## Data Collection"
   ]
  },
  {
   "cell_type": "markdown",
   "metadata": {},
   "source": [
    "### NCDC Website scrap\n",
    "Website - https://covid19.ncdc.gov.ng/"
   ]
  },
  {
   "cell_type": "code",
   "execution_count": 91,
   "metadata": {},
   "outputs": [],
   "source": [
    "# Import all libraries in this cell\n",
    "import urllib\n",
    "import requests\n",
    "import numpy as np\n",
    "import urllib.request\n",
    "import pandas as pd\n",
    "import csv\n",
    "from bs4 import BeautifulSoup\n",
    "import seaborn as sns\n",
    "sns.set_style(\"darkgrid\")\n",
    "import matplotlib.pyplot as plt\n",
    "%matplotlib inline\n",
    "plt.style.use('fivethirtyeight')  \n",
    "import warnings\n",
    "warnings.filterwarnings('ignore')"
   ]
  },
  {
   "cell_type": "code",
   "execution_count": 92,
   "metadata": {},
   "outputs": [],
   "source": [
    "USER_AGENT = \"Mozilla/5.0 (X11; Linux x86_64) AppleWebKit/537.36 (KHTML, like Gecko) Chrome/44.0.2403.157 Safari/537.36\"\n",
    "# US english\n",
    "LANGUAGE = \"en-US,en;q=0.5\"\n",
    "\n",
    "def get_soup(url):\n",
    "    url = \"https://covid19.ncdc.gov.ng\"  \n",
    "    page = urllib.request.urlopen(url).read()\n",
    "    return BeautifulSoup(page)\n",
    "\n",
    "def get_tables(soup):\n",
    "    return soup.find_all(\"table\")\n",
    "\n",
    "def get_table_headers(table):\n",
    "    headers=[]\n",
    "    for th in table.find(\"tr\").find_all(\"th\"):\n",
    "        headers.append(th.text.strip())\n",
    "    return headers\n",
    "\n",
    "def get_table_rows(table):\n",
    "    rows=[]\n",
    "    for tr in table.find_all(\"tr\")[1:]:\n",
    "        cells=[]\n",
    "        tds=tr.find_all(\"td\")\n",
    "        if len(tds) ==0:\n",
    "            ths=tr.find_all(\"th\")\n",
    "            for th in ths:\n",
    "                cells.append(th.text.strip())\n",
    "        else:\n",
    "            for td in tds:\n",
    "                cells.append(td.text.strip())\n",
    "        rows.append(cells)\n",
    "    return rows\n",
    "\n",
    "def save_as_csv(table_name, headers, rows):\n",
    "        pd.DataFrame(rows, columns=headers).to_csv(f\"{table_name}.csv\")\n",
    "\n",
    "def main(url):\n",
    "    # get the soup\n",
    "    soup = get_soup(url)\n",
    "    # extract all the tables from the web page\n",
    "    tables = get_tables(soup)\n",
    "    print(f\"[+] Found a total of {len(tables)} tables.\")\n",
    "    # iterate over all tables\n",
    "    for i, table in enumerate(tables, start=1):\n",
    "        # get the table headers\n",
    "        headers = get_table_headers(table)\n",
    "        # get all the rows of the table\n",
    "        rows = get_table_rows(table)\n",
    "        # save table as csv file\n",
    "        table_name = f\"NCDC\"\n",
    "        print(f\"[+] Saving {table_name}\")\n",
    "        save_as_csv(table_name, headers, rows)"
   ]
  },
  {
   "cell_type": "code",
   "execution_count": 93,
   "metadata": {},
   "outputs": [
    {
     "name": "stdout",
     "output_type": "stream",
     "text": [
      "[+] Found a total of 1 tables.\n",
      "[+] Saving NCDC\n"
     ]
    }
   ],
   "source": [
    "if __name__ == \"__main__\":\n",
    "    import sys\n",
    "    try:\n",
    "        url = sys.argv[1]\n",
    "    except IndexError:\n",
    "        print(\"Please specify a URL.\\nUsage: python html_table_extractor.py [URL]\")\n",
    "        exit(1)\n",
    "    main(url)"
   ]
  },
  {
   "cell_type": "markdown",
   "metadata": {},
   "source": [
    "### B - John Hopkins Data Repository\n",
    "Confirmed, Recovered and Death Cases are downloaded from the John Hopkins Data Repository using: \n",
    "\n",
    "* Global Daily Confirmed Cases - Click [Here](https://github.com/CSSEGISandData/COVID-19/blob/master/csse_covid_19_data/csse_covid_19_time_series/time_series_covid19_confirmed_global.csv)\n",
    "* Global Daily Recovered Cases - Click [Here](https://github.com/CSSEGISandData/COVID-19/blob/master/csse_covid_19_data/csse_covid_19_time_series/time_series_covid19_recovered_global.csv)\n",
    "* Global Daily Death Cases - Click [Here](https://github.com/CSSEGISandData/COVID-19/blob/master/csse_covid_19_data/csse_covid_19_time_series/time_series_covid19_deaths_global.csv)"
   ]
  },
  {
   "cell_type": "code",
   "execution_count": 94,
   "metadata": {},
   "outputs": [],
   "source": [
    "#[Write Your Code Here]\n",
    "confirmed_global=pd.read_csv(\"confirmed_global.csv\")\n",
    "deaths_global=pd.read_csv(\"deaths_global.csv\")\n",
    "recovered_global=pd.read_csv(\"recovered_global.csv\")"
   ]
  },
  {
   "cell_type": "markdown",
   "metadata": {},
   "source": [
    "### C - External Data "
   ]
  },
  {
   "cell_type": "code",
   "execution_count": 95,
   "metadata": {},
   "outputs": [],
   "source": [
    "#[Write Your Code Here]\n",
    "covid_external=pd.read_csv(\"covid_external.csv\")\n",
    "Budget=pd.read_csv(\"Budget data.csv\")\n",
    "RealGDP=pd.read_csv(\"RealGDP.csv\")"
   ]
  },
  {
   "cell_type": "markdown",
   "metadata": {},
   "source": [
    "## View Data"
   ]
  },
  {
   "cell_type": "code",
   "execution_count": 96,
   "metadata": {},
   "outputs": [
    {
     "data": {
      "text/html": [
       "<div>\n",
       "<style scoped>\n",
       "    .dataframe tbody tr th:only-of-type {\n",
       "        vertical-align: middle;\n",
       "    }\n",
       "\n",
       "    .dataframe tbody tr th {\n",
       "        vertical-align: top;\n",
       "    }\n",
       "\n",
       "    .dataframe thead th {\n",
       "        text-align: right;\n",
       "    }\n",
       "</style>\n",
       "<table border=\"1\" class=\"dataframe\">\n",
       "  <thead>\n",
       "    <tr style=\"text-align: right;\">\n",
       "      <th></th>\n",
       "      <th>states</th>\n",
       "      <th>region</th>\n",
       "      <th>Population</th>\n",
       "      <th>Overall CCVI Index</th>\n",
       "      <th>Age</th>\n",
       "      <th>Epidemiological</th>\n",
       "      <th>Fragility</th>\n",
       "      <th>Health System</th>\n",
       "      <th>Population Density</th>\n",
       "      <th>Socio-Economic</th>\n",
       "      <th>Transport Availability</th>\n",
       "      <th>Acute IHR</th>\n",
       "    </tr>\n",
       "  </thead>\n",
       "  <tbody>\n",
       "    <tr>\n",
       "      <th>0</th>\n",
       "      <td>FCT</td>\n",
       "      <td>North Central</td>\n",
       "      <td>4865000</td>\n",
       "      <td>0.3</td>\n",
       "      <td>0.0</td>\n",
       "      <td>0.9</td>\n",
       "      <td>0.4</td>\n",
       "      <td>0.6</td>\n",
       "      <td>0.9</td>\n",
       "      <td>0.6</td>\n",
       "      <td>0.2</td>\n",
       "      <td>0.79</td>\n",
       "    </tr>\n",
       "    <tr>\n",
       "      <th>1</th>\n",
       "      <td>Plateau</td>\n",
       "      <td>North Central</td>\n",
       "      <td>4766000</td>\n",
       "      <td>0.4</td>\n",
       "      <td>0.5</td>\n",
       "      <td>0.4</td>\n",
       "      <td>0.8</td>\n",
       "      <td>0.3</td>\n",
       "      <td>0.3</td>\n",
       "      <td>0.5</td>\n",
       "      <td>0.3</td>\n",
       "      <td>0.93</td>\n",
       "    </tr>\n",
       "    <tr>\n",
       "      <th>2</th>\n",
       "      <td>Kwara</td>\n",
       "      <td>North Central</td>\n",
       "      <td>3524000</td>\n",
       "      <td>0.3</td>\n",
       "      <td>0.4</td>\n",
       "      <td>0.3</td>\n",
       "      <td>0.2</td>\n",
       "      <td>0.4</td>\n",
       "      <td>0.2</td>\n",
       "      <td>0.6</td>\n",
       "      <td>0.7</td>\n",
       "      <td>0.93</td>\n",
       "    </tr>\n",
       "  </tbody>\n",
       "</table>\n",
       "</div>"
      ],
      "text/plain": [
       "    states         region  Population  Overall CCVI Index  Age  \\\n",
       "0      FCT  North Central     4865000                 0.3  0.0   \n",
       "1  Plateau  North Central     4766000                 0.4  0.5   \n",
       "2    Kwara  North Central     3524000                 0.3  0.4   \n",
       "\n",
       "   Epidemiological  Fragility  Health System  Population Density  \\\n",
       "0              0.9        0.4            0.6                 0.9   \n",
       "1              0.4        0.8            0.3                 0.3   \n",
       "2              0.3        0.2            0.4                 0.2   \n",
       "\n",
       "   Socio-Economic   Transport Availability  Acute IHR  \n",
       "0             0.6                      0.2       0.79  \n",
       "1             0.5                      0.3       0.93  \n",
       "2             0.6                      0.7       0.93  "
      ]
     },
     "execution_count": 96,
     "metadata": {},
     "output_type": "execute_result"
    }
   ],
   "source": [
    "#[Write Your Code Here]\n",
    "covid_external.head(3)"
   ]
  },
  {
   "cell_type": "code",
   "execution_count": 97,
   "metadata": {},
   "outputs": [
    {
     "data": {
      "text/html": [
       "<div>\n",
       "<style scoped>\n",
       "    .dataframe tbody tr th:only-of-type {\n",
       "        vertical-align: middle;\n",
       "    }\n",
       "\n",
       "    .dataframe tbody tr th {\n",
       "        vertical-align: top;\n",
       "    }\n",
       "\n",
       "    .dataframe thead th {\n",
       "        text-align: right;\n",
       "    }\n",
       "</style>\n",
       "<table border=\"1\" class=\"dataframe\">\n",
       "  <thead>\n",
       "    <tr style=\"text-align: right;\">\n",
       "      <th></th>\n",
       "      <th>states</th>\n",
       "      <th>Initial_budget (Bn)</th>\n",
       "      <th>Revised_budget (Bn)</th>\n",
       "    </tr>\n",
       "  </thead>\n",
       "  <tbody>\n",
       "    <tr>\n",
       "      <th>0</th>\n",
       "      <td>Abia</td>\n",
       "      <td>136.60</td>\n",
       "      <td>102.70</td>\n",
       "    </tr>\n",
       "    <tr>\n",
       "      <th>1</th>\n",
       "      <td>Adamawa</td>\n",
       "      <td>183.30</td>\n",
       "      <td>139.31</td>\n",
       "    </tr>\n",
       "    <tr>\n",
       "      <th>2</th>\n",
       "      <td>Akwa-Ibom</td>\n",
       "      <td>597.73</td>\n",
       "      <td>366.00</td>\n",
       "    </tr>\n",
       "    <tr>\n",
       "      <th>3</th>\n",
       "      <td>Anambra</td>\n",
       "      <td>137.10</td>\n",
       "      <td>112.80</td>\n",
       "    </tr>\n",
       "    <tr>\n",
       "      <th>4</th>\n",
       "      <td>Bauchi</td>\n",
       "      <td>167.20</td>\n",
       "      <td>128.00</td>\n",
       "    </tr>\n",
       "  </tbody>\n",
       "</table>\n",
       "</div>"
      ],
      "text/plain": [
       "      states  Initial_budget (Bn)  Revised_budget (Bn)\n",
       "0       Abia               136.60               102.70\n",
       "1    Adamawa               183.30               139.31\n",
       "2  Akwa-Ibom               597.73               366.00\n",
       "3    Anambra               137.10               112.80\n",
       "4     Bauchi               167.20               128.00"
      ]
     },
     "execution_count": 97,
     "metadata": {},
     "output_type": "execute_result"
    }
   ],
   "source": [
    "Budget.head()"
   ]
  },
  {
   "cell_type": "code",
   "execution_count": 98,
   "metadata": {},
   "outputs": [
    {
     "data": {
      "text/html": [
       "<div>\n",
       "<style scoped>\n",
       "    .dataframe tbody tr th:only-of-type {\n",
       "        vertical-align: middle;\n",
       "    }\n",
       "\n",
       "    .dataframe tbody tr th {\n",
       "        vertical-align: top;\n",
       "    }\n",
       "\n",
       "    .dataframe thead th {\n",
       "        text-align: right;\n",
       "    }\n",
       "</style>\n",
       "<table border=\"1\" class=\"dataframe\">\n",
       "  <thead>\n",
       "    <tr style=\"text-align: right;\">\n",
       "      <th></th>\n",
       "      <th>Year</th>\n",
       "      <th>Q1</th>\n",
       "      <th>Q2</th>\n",
       "      <th>Q3</th>\n",
       "      <th>Q4</th>\n",
       "    </tr>\n",
       "  </thead>\n",
       "  <tbody>\n",
       "    <tr>\n",
       "      <th>0</th>\n",
       "      <td>2014</td>\n",
       "      <td>15438679.50</td>\n",
       "      <td>16084622.31</td>\n",
       "      <td>17479127.58</td>\n",
       "      <td>18150356.45</td>\n",
       "    </tr>\n",
       "    <tr>\n",
       "      <th>1</th>\n",
       "      <td>2015</td>\n",
       "      <td>16050601.38</td>\n",
       "      <td>16463341.91</td>\n",
       "      <td>17976234.59</td>\n",
       "      <td>18533752.07</td>\n",
       "    </tr>\n",
       "    <tr>\n",
       "      <th>2</th>\n",
       "      <td>2016</td>\n",
       "      <td>15943714.54</td>\n",
       "      <td>16218542.41</td>\n",
       "      <td>17555441.69</td>\n",
       "      <td>18213537.29</td>\n",
       "    </tr>\n",
       "    <tr>\n",
       "      <th>3</th>\n",
       "      <td>2017</td>\n",
       "      <td>15797965.83</td>\n",
       "      <td>16334719.27</td>\n",
       "      <td>17760228.17</td>\n",
       "      <td>18598067.07</td>\n",
       "    </tr>\n",
       "    <tr>\n",
       "      <th>4</th>\n",
       "      <td>2018</td>\n",
       "      <td>16096654.19</td>\n",
       "      <td>16580508.07</td>\n",
       "      <td>18081342.10</td>\n",
       "      <td>19041437.59</td>\n",
       "    </tr>\n",
       "  </tbody>\n",
       "</table>\n",
       "</div>"
      ],
      "text/plain": [
       "   Year           Q1           Q2           Q3           Q4\n",
       "0  2014  15438679.50  16084622.31  17479127.58  18150356.45\n",
       "1  2015  16050601.38  16463341.91  17976234.59  18533752.07\n",
       "2  2016  15943714.54  16218542.41  17555441.69  18213537.29\n",
       "3  2017  15797965.83  16334719.27  17760228.17  18598067.07\n",
       "4  2018  16096654.19  16580508.07  18081342.10  19041437.59"
      ]
     },
     "execution_count": 98,
     "metadata": {},
     "output_type": "execute_result"
    }
   ],
   "source": [
    "RealGDP.head()"
   ]
  },
  {
   "cell_type": "code",
   "execution_count": 99,
   "metadata": {},
   "outputs": [
    {
     "name": "stdout",
     "output_type": "stream",
     "text": [
      "<class 'pandas.core.frame.DataFrame'>\n",
      "RangeIndex: 275 entries, 0 to 274\n",
      "Columns: 480 entries, Province/State to 5/11/21\n",
      "dtypes: float64(2), int64(476), object(2)\n",
      "memory usage: 1.0+ MB\n",
      "None\n"
     ]
    },
    {
     "data": {
      "text/html": [
       "<div>\n",
       "<style scoped>\n",
       "    .dataframe tbody tr th:only-of-type {\n",
       "        vertical-align: middle;\n",
       "    }\n",
       "\n",
       "    .dataframe tbody tr th {\n",
       "        vertical-align: top;\n",
       "    }\n",
       "\n",
       "    .dataframe thead th {\n",
       "        text-align: right;\n",
       "    }\n",
       "</style>\n",
       "<table border=\"1\" class=\"dataframe\">\n",
       "  <thead>\n",
       "    <tr style=\"text-align: right;\">\n",
       "      <th></th>\n",
       "      <th>Province/State</th>\n",
       "      <th>Country/Region</th>\n",
       "      <th>Lat</th>\n",
       "      <th>Long</th>\n",
       "      <th>1/22/20</th>\n",
       "      <th>1/23/20</th>\n",
       "      <th>1/24/20</th>\n",
       "      <th>1/25/20</th>\n",
       "      <th>1/26/20</th>\n",
       "      <th>1/27/20</th>\n",
       "      <th>...</th>\n",
       "      <th>5/2/21</th>\n",
       "      <th>5/3/21</th>\n",
       "      <th>5/4/21</th>\n",
       "      <th>5/5/21</th>\n",
       "      <th>5/6/21</th>\n",
       "      <th>5/7/21</th>\n",
       "      <th>5/8/21</th>\n",
       "      <th>5/9/21</th>\n",
       "      <th>5/10/21</th>\n",
       "      <th>5/11/21</th>\n",
       "    </tr>\n",
       "  </thead>\n",
       "  <tbody>\n",
       "    <tr>\n",
       "      <th>0</th>\n",
       "      <td>NaN</td>\n",
       "      <td>Afghanistan</td>\n",
       "      <td>33.93911</td>\n",
       "      <td>67.709953</td>\n",
       "      <td>0</td>\n",
       "      <td>0</td>\n",
       "      <td>0</td>\n",
       "      <td>0</td>\n",
       "      <td>0</td>\n",
       "      <td>0</td>\n",
       "      <td>...</td>\n",
       "      <td>60122</td>\n",
       "      <td>60300</td>\n",
       "      <td>60563</td>\n",
       "      <td>60797</td>\n",
       "      <td>61162</td>\n",
       "      <td>61455</td>\n",
       "      <td>61755</td>\n",
       "      <td>61842</td>\n",
       "      <td>62063</td>\n",
       "      <td>62403</td>\n",
       "    </tr>\n",
       "    <tr>\n",
       "      <th>1</th>\n",
       "      <td>NaN</td>\n",
       "      <td>Albania</td>\n",
       "      <td>41.15330</td>\n",
       "      <td>20.168300</td>\n",
       "      <td>0</td>\n",
       "      <td>0</td>\n",
       "      <td>0</td>\n",
       "      <td>0</td>\n",
       "      <td>0</td>\n",
       "      <td>0</td>\n",
       "      <td>...</td>\n",
       "      <td>131238</td>\n",
       "      <td>131276</td>\n",
       "      <td>131327</td>\n",
       "      <td>131419</td>\n",
       "      <td>131510</td>\n",
       "      <td>131577</td>\n",
       "      <td>131666</td>\n",
       "      <td>131723</td>\n",
       "      <td>131753</td>\n",
       "      <td>131803</td>\n",
       "    </tr>\n",
       "    <tr>\n",
       "      <th>2</th>\n",
       "      <td>NaN</td>\n",
       "      <td>Algeria</td>\n",
       "      <td>28.03390</td>\n",
       "      <td>1.659600</td>\n",
       "      <td>0</td>\n",
       "      <td>0</td>\n",
       "      <td>0</td>\n",
       "      <td>0</td>\n",
       "      <td>0</td>\n",
       "      <td>0</td>\n",
       "      <td>...</td>\n",
       "      <td>122522</td>\n",
       "      <td>122717</td>\n",
       "      <td>122999</td>\n",
       "      <td>123272</td>\n",
       "      <td>123473</td>\n",
       "      <td>123692</td>\n",
       "      <td>123900</td>\n",
       "      <td>124104</td>\n",
       "      <td>124288</td>\n",
       "      <td>124483</td>\n",
       "    </tr>\n",
       "  </tbody>\n",
       "</table>\n",
       "<p>3 rows × 480 columns</p>\n",
       "</div>"
      ],
      "text/plain": [
       "  Province/State Country/Region       Lat       Long  1/22/20  1/23/20  \\\n",
       "0            NaN    Afghanistan  33.93911  67.709953        0        0   \n",
       "1            NaN        Albania  41.15330  20.168300        0        0   \n",
       "2            NaN        Algeria  28.03390   1.659600        0        0   \n",
       "\n",
       "   1/24/20  1/25/20  1/26/20  1/27/20  ...  5/2/21  5/3/21  5/4/21  5/5/21  \\\n",
       "0        0        0        0        0  ...   60122   60300   60563   60797   \n",
       "1        0        0        0        0  ...  131238  131276  131327  131419   \n",
       "2        0        0        0        0  ...  122522  122717  122999  123272   \n",
       "\n",
       "   5/6/21  5/7/21  5/8/21  5/9/21  5/10/21  5/11/21  \n",
       "0   61162   61455   61755   61842    62063    62403  \n",
       "1  131510  131577  131666  131723   131753   131803  \n",
       "2  123473  123692  123900  124104   124288   124483  \n",
       "\n",
       "[3 rows x 480 columns]"
      ]
     },
     "execution_count": 99,
     "metadata": {},
     "output_type": "execute_result"
    }
   ],
   "source": [
    "print (confirmed_global.info())\n",
    "confirmed_global.head(3)"
   ]
  },
  {
   "cell_type": "code",
   "execution_count": 100,
   "metadata": {},
   "outputs": [
    {
     "name": "stdout",
     "output_type": "stream",
     "text": [
      "<class 'pandas.core.frame.DataFrame'>\n",
      "RangeIndex: 260 entries, 0 to 259\n",
      "Columns: 480 entries, Province/State to 5/11/21\n",
      "dtypes: float64(2), int64(476), object(2)\n",
      "memory usage: 975.1+ KB\n",
      "None\n"
     ]
    },
    {
     "data": {
      "text/html": [
       "<div>\n",
       "<style scoped>\n",
       "    .dataframe tbody tr th:only-of-type {\n",
       "        vertical-align: middle;\n",
       "    }\n",
       "\n",
       "    .dataframe tbody tr th {\n",
       "        vertical-align: top;\n",
       "    }\n",
       "\n",
       "    .dataframe thead th {\n",
       "        text-align: right;\n",
       "    }\n",
       "</style>\n",
       "<table border=\"1\" class=\"dataframe\">\n",
       "  <thead>\n",
       "    <tr style=\"text-align: right;\">\n",
       "      <th></th>\n",
       "      <th>Province/State</th>\n",
       "      <th>Country/Region</th>\n",
       "      <th>Lat</th>\n",
       "      <th>Long</th>\n",
       "      <th>1/22/20</th>\n",
       "      <th>1/23/20</th>\n",
       "      <th>1/24/20</th>\n",
       "      <th>1/25/20</th>\n",
       "      <th>1/26/20</th>\n",
       "      <th>1/27/20</th>\n",
       "      <th>...</th>\n",
       "      <th>5/2/21</th>\n",
       "      <th>5/3/21</th>\n",
       "      <th>5/4/21</th>\n",
       "      <th>5/5/21</th>\n",
       "      <th>5/6/21</th>\n",
       "      <th>5/7/21</th>\n",
       "      <th>5/8/21</th>\n",
       "      <th>5/9/21</th>\n",
       "      <th>5/10/21</th>\n",
       "      <th>5/11/21</th>\n",
       "    </tr>\n",
       "  </thead>\n",
       "  <tbody>\n",
       "    <tr>\n",
       "      <th>0</th>\n",
       "      <td>NaN</td>\n",
       "      <td>Afghanistan</td>\n",
       "      <td>33.93911</td>\n",
       "      <td>67.709953</td>\n",
       "      <td>0</td>\n",
       "      <td>0</td>\n",
       "      <td>0</td>\n",
       "      <td>0</td>\n",
       "      <td>0</td>\n",
       "      <td>0</td>\n",
       "      <td>...</td>\n",
       "      <td>53391</td>\n",
       "      <td>53391</td>\n",
       "      <td>53694</td>\n",
       "      <td>53750</td>\n",
       "      <td>53961</td>\n",
       "      <td>54019</td>\n",
       "      <td>54040</td>\n",
       "      <td>54222</td>\n",
       "      <td>54382</td>\n",
       "      <td>54503</td>\n",
       "    </tr>\n",
       "    <tr>\n",
       "      <th>1</th>\n",
       "      <td>NaN</td>\n",
       "      <td>Albania</td>\n",
       "      <td>41.15330</td>\n",
       "      <td>20.168300</td>\n",
       "      <td>0</td>\n",
       "      <td>0</td>\n",
       "      <td>0</td>\n",
       "      <td>0</td>\n",
       "      <td>0</td>\n",
       "      <td>0</td>\n",
       "      <td>...</td>\n",
       "      <td>110920</td>\n",
       "      <td>111792</td>\n",
       "      <td>112626</td>\n",
       "      <td>113468</td>\n",
       "      <td>114362</td>\n",
       "      <td>115253</td>\n",
       "      <td>116126</td>\n",
       "      <td>117089</td>\n",
       "      <td>118041</td>\n",
       "      <td>119061</td>\n",
       "    </tr>\n",
       "    <tr>\n",
       "      <th>2</th>\n",
       "      <td>NaN</td>\n",
       "      <td>Algeria</td>\n",
       "      <td>28.03390</td>\n",
       "      <td>1.659600</td>\n",
       "      <td>0</td>\n",
       "      <td>0</td>\n",
       "      <td>0</td>\n",
       "      <td>0</td>\n",
       "      <td>0</td>\n",
       "      <td>0</td>\n",
       "      <td>...</td>\n",
       "      <td>85398</td>\n",
       "      <td>85534</td>\n",
       "      <td>85693</td>\n",
       "      <td>85869</td>\n",
       "      <td>86007</td>\n",
       "      <td>86149</td>\n",
       "      <td>86280</td>\n",
       "      <td>86420</td>\n",
       "      <td>86554</td>\n",
       "      <td>86703</td>\n",
       "    </tr>\n",
       "  </tbody>\n",
       "</table>\n",
       "<p>3 rows × 480 columns</p>\n",
       "</div>"
      ],
      "text/plain": [
       "  Province/State Country/Region       Lat       Long  1/22/20  1/23/20  \\\n",
       "0            NaN    Afghanistan  33.93911  67.709953        0        0   \n",
       "1            NaN        Albania  41.15330  20.168300        0        0   \n",
       "2            NaN        Algeria  28.03390   1.659600        0        0   \n",
       "\n",
       "   1/24/20  1/25/20  1/26/20  1/27/20  ...  5/2/21  5/3/21  5/4/21  5/5/21  \\\n",
       "0        0        0        0        0  ...   53391   53391   53694   53750   \n",
       "1        0        0        0        0  ...  110920  111792  112626  113468   \n",
       "2        0        0        0        0  ...   85398   85534   85693   85869   \n",
       "\n",
       "   5/6/21  5/7/21  5/8/21  5/9/21  5/10/21  5/11/21  \n",
       "0   53961   54019   54040   54222    54382    54503  \n",
       "1  114362  115253  116126  117089   118041   119061  \n",
       "2   86007   86149   86280   86420    86554    86703  \n",
       "\n",
       "[3 rows x 480 columns]"
      ]
     },
     "execution_count": 100,
     "metadata": {},
     "output_type": "execute_result"
    }
   ],
   "source": [
    "print (recovered_global.info())\n",
    "recovered_global.head(3)"
   ]
  },
  {
   "cell_type": "code",
   "execution_count": 101,
   "metadata": {},
   "outputs": [
    {
     "name": "stdout",
     "output_type": "stream",
     "text": [
      "<class 'pandas.core.frame.DataFrame'>\n",
      "RangeIndex: 275 entries, 0 to 274\n",
      "Columns: 480 entries, Province/State to 5/11/21\n",
      "dtypes: float64(2), int64(476), object(2)\n",
      "memory usage: 1.0+ MB\n",
      "None\n"
     ]
    },
    {
     "data": {
      "text/html": [
       "<div>\n",
       "<style scoped>\n",
       "    .dataframe tbody tr th:only-of-type {\n",
       "        vertical-align: middle;\n",
       "    }\n",
       "\n",
       "    .dataframe tbody tr th {\n",
       "        vertical-align: top;\n",
       "    }\n",
       "\n",
       "    .dataframe thead th {\n",
       "        text-align: right;\n",
       "    }\n",
       "</style>\n",
       "<table border=\"1\" class=\"dataframe\">\n",
       "  <thead>\n",
       "    <tr style=\"text-align: right;\">\n",
       "      <th></th>\n",
       "      <th>Province/State</th>\n",
       "      <th>Country/Region</th>\n",
       "      <th>Lat</th>\n",
       "      <th>Long</th>\n",
       "      <th>1/22/20</th>\n",
       "      <th>1/23/20</th>\n",
       "      <th>1/24/20</th>\n",
       "      <th>1/25/20</th>\n",
       "      <th>1/26/20</th>\n",
       "      <th>1/27/20</th>\n",
       "      <th>...</th>\n",
       "      <th>5/2/21</th>\n",
       "      <th>5/3/21</th>\n",
       "      <th>5/4/21</th>\n",
       "      <th>5/5/21</th>\n",
       "      <th>5/6/21</th>\n",
       "      <th>5/7/21</th>\n",
       "      <th>5/8/21</th>\n",
       "      <th>5/9/21</th>\n",
       "      <th>5/10/21</th>\n",
       "      <th>5/11/21</th>\n",
       "    </tr>\n",
       "  </thead>\n",
       "  <tbody>\n",
       "    <tr>\n",
       "      <th>0</th>\n",
       "      <td>NaN</td>\n",
       "      <td>Afghanistan</td>\n",
       "      <td>33.93911</td>\n",
       "      <td>67.709953</td>\n",
       "      <td>0</td>\n",
       "      <td>0</td>\n",
       "      <td>0</td>\n",
       "      <td>0</td>\n",
       "      <td>0</td>\n",
       "      <td>0</td>\n",
       "      <td>...</td>\n",
       "      <td>2637</td>\n",
       "      <td>2642</td>\n",
       "      <td>2648</td>\n",
       "      <td>2654</td>\n",
       "      <td>2664</td>\n",
       "      <td>2673</td>\n",
       "      <td>2683</td>\n",
       "      <td>2686</td>\n",
       "      <td>2698</td>\n",
       "      <td>2710</td>\n",
       "    </tr>\n",
       "    <tr>\n",
       "      <th>1</th>\n",
       "      <td>NaN</td>\n",
       "      <td>Albania</td>\n",
       "      <td>41.15330</td>\n",
       "      <td>20.168300</td>\n",
       "      <td>0</td>\n",
       "      <td>0</td>\n",
       "      <td>0</td>\n",
       "      <td>0</td>\n",
       "      <td>0</td>\n",
       "      <td>0</td>\n",
       "      <td>...</td>\n",
       "      <td>2397</td>\n",
       "      <td>2399</td>\n",
       "      <td>2402</td>\n",
       "      <td>2403</td>\n",
       "      <td>2406</td>\n",
       "      <td>2408</td>\n",
       "      <td>2411</td>\n",
       "      <td>2412</td>\n",
       "      <td>2416</td>\n",
       "      <td>2420</td>\n",
       "    </tr>\n",
       "    <tr>\n",
       "      <th>2</th>\n",
       "      <td>NaN</td>\n",
       "      <td>Algeria</td>\n",
       "      <td>28.03390</td>\n",
       "      <td>1.659600</td>\n",
       "      <td>0</td>\n",
       "      <td>0</td>\n",
       "      <td>0</td>\n",
       "      <td>0</td>\n",
       "      <td>0</td>\n",
       "      <td>0</td>\n",
       "      <td>...</td>\n",
       "      <td>3270</td>\n",
       "      <td>3280</td>\n",
       "      <td>3289</td>\n",
       "      <td>3299</td>\n",
       "      <td>3307</td>\n",
       "      <td>3315</td>\n",
       "      <td>3321</td>\n",
       "      <td>3328</td>\n",
       "      <td>3335</td>\n",
       "      <td>3343</td>\n",
       "    </tr>\n",
       "  </tbody>\n",
       "</table>\n",
       "<p>3 rows × 480 columns</p>\n",
       "</div>"
      ],
      "text/plain": [
       "  Province/State Country/Region       Lat       Long  1/22/20  1/23/20  \\\n",
       "0            NaN    Afghanistan  33.93911  67.709953        0        0   \n",
       "1            NaN        Albania  41.15330  20.168300        0        0   \n",
       "2            NaN        Algeria  28.03390   1.659600        0        0   \n",
       "\n",
       "   1/24/20  1/25/20  1/26/20  1/27/20  ...  5/2/21  5/3/21  5/4/21  5/5/21  \\\n",
       "0        0        0        0        0  ...    2637    2642    2648    2654   \n",
       "1        0        0        0        0  ...    2397    2399    2402    2403   \n",
       "2        0        0        0        0  ...    3270    3280    3289    3299   \n",
       "\n",
       "   5/6/21  5/7/21  5/8/21  5/9/21  5/10/21  5/11/21  \n",
       "0    2664    2673    2683    2686     2698     2710  \n",
       "1    2406    2408    2411    2412     2416     2420  \n",
       "2    3307    3315    3321    3328     3335     3343  \n",
       "\n",
       "[3 rows x 480 columns]"
      ]
     },
     "execution_count": 101,
     "metadata": {},
     "output_type": "execute_result"
    }
   ],
   "source": [
    "print (deaths_global.info())\n",
    "deaths_global.head(3)"
   ]
  },
  {
   "cell_type": "code",
   "execution_count": 102,
   "metadata": {},
   "outputs": [
    {
     "name": "stdout",
     "output_type": "stream",
     "text": [
      "<class 'pandas.core.frame.DataFrame'>\n",
      "RangeIndex: 37 entries, 0 to 36\n",
      "Data columns (total 5 columns):\n",
      " #   Column                        Non-Null Count  Dtype \n",
      "---  ------                        --------------  ----- \n",
      " 0   States Affected               37 non-null     object\n",
      " 1   No. of Cases (Lab Confirmed)  37 non-null     object\n",
      " 2   No. of Cases (on admission)   37 non-null     object\n",
      " 3   No. Discharged                37 non-null     object\n",
      " 4   No. of Deaths                 37 non-null     int64 \n",
      "dtypes: int64(1), object(4)\n",
      "memory usage: 1.6+ KB\n",
      "None\n"
     ]
    },
    {
     "data": {
      "text/html": [
       "<div>\n",
       "<style scoped>\n",
       "    .dataframe tbody tr th:only-of-type {\n",
       "        vertical-align: middle;\n",
       "    }\n",
       "\n",
       "    .dataframe tbody tr th {\n",
       "        vertical-align: top;\n",
       "    }\n",
       "\n",
       "    .dataframe thead th {\n",
       "        text-align: right;\n",
       "    }\n",
       "</style>\n",
       "<table border=\"1\" class=\"dataframe\">\n",
       "  <thead>\n",
       "    <tr style=\"text-align: right;\">\n",
       "      <th></th>\n",
       "      <th>States Affected</th>\n",
       "      <th>No. of Cases (Lab Confirmed)</th>\n",
       "      <th>No. of Cases (on admission)</th>\n",
       "      <th>No. Discharged</th>\n",
       "      <th>No. of Deaths</th>\n",
       "    </tr>\n",
       "  </thead>\n",
       "  <tbody>\n",
       "    <tr>\n",
       "      <th>0</th>\n",
       "      <td>Lagos</td>\n",
       "      <td>58,743</td>\n",
       "      <td>1,314</td>\n",
       "      <td>56,990</td>\n",
       "      <td>439</td>\n",
       "    </tr>\n",
       "    <tr>\n",
       "      <th>1</th>\n",
       "      <td>FCT</td>\n",
       "      <td>19,842</td>\n",
       "      <td>572</td>\n",
       "      <td>19,104</td>\n",
       "      <td>166</td>\n",
       "    </tr>\n",
       "    <tr>\n",
       "      <th>2</th>\n",
       "      <td>Kaduna</td>\n",
       "      <td>9,068</td>\n",
       "      <td>1</td>\n",
       "      <td>9,002</td>\n",
       "      <td>65</td>\n",
       "    </tr>\n",
       "    <tr>\n",
       "      <th>3</th>\n",
       "      <td>Plateau</td>\n",
       "      <td>9,060</td>\n",
       "      <td>1</td>\n",
       "      <td>9,002</td>\n",
       "      <td>57</td>\n",
       "    </tr>\n",
       "    <tr>\n",
       "      <th>4</th>\n",
       "      <td>Rivers</td>\n",
       "      <td>7,174</td>\n",
       "      <td>33</td>\n",
       "      <td>7,040</td>\n",
       "      <td>101</td>\n",
       "    </tr>\n",
       "  </tbody>\n",
       "</table>\n",
       "</div>"
      ],
      "text/plain": [
       "  States Affected No. of Cases (Lab Confirmed) No. of Cases (on admission)  \\\n",
       "0           Lagos                       58,743                       1,314   \n",
       "1             FCT                       19,842                         572   \n",
       "2          Kaduna                        9,068                           1   \n",
       "3         Plateau                        9,060                           1   \n",
       "4          Rivers                        7,174                          33   \n",
       "\n",
       "  No. Discharged  No. of Deaths  \n",
       "0         56,990            439  \n",
       "1         19,104            166  \n",
       "2          9,002             65  \n",
       "3          9,002             57  \n",
       "4          7,040            101  "
      ]
     },
     "execution_count": 102,
     "metadata": {},
     "output_type": "execute_result"
    }
   ],
   "source": [
    "#[Write Your Code Here]\n",
    "NCDC=pd.read_csv(\"NCDC.csv\")\n",
    "NCDC.columns\n",
    "NCDC=NCDC.drop(['Unnamed: 0'],1)\n",
    "print (NCDC.info())\n",
    "NCDC.head()"
   ]
  },
  {
   "cell_type": "markdown",
   "metadata": {},
   "source": [
    "## Data Cleaning and Preparation"
   ]
  },
  {
   "cell_type": "code",
   "execution_count": 103,
   "metadata": {},
   "outputs": [],
   "source": [
    "NCDC['No. of Cases (Lab Confirmed)']=NCDC['No. of Cases (Lab Confirmed)'].str.replace(',','')\n",
    "NCDC['No. of Cases (on admission)']=NCDC['No. of Cases (on admission)'].str.replace(',','')\n",
    "NCDC['No. Discharged']=NCDC['No. Discharged'].str.replace(',','')"
   ]
  },
  {
   "cell_type": "code",
   "execution_count": 104,
   "metadata": {},
   "outputs": [
    {
     "data": {
      "text/html": [
       "<div>\n",
       "<style scoped>\n",
       "    .dataframe tbody tr th:only-of-type {\n",
       "        vertical-align: middle;\n",
       "    }\n",
       "\n",
       "    .dataframe tbody tr th {\n",
       "        vertical-align: top;\n",
       "    }\n",
       "\n",
       "    .dataframe thead th {\n",
       "        text-align: right;\n",
       "    }\n",
       "</style>\n",
       "<table border=\"1\" class=\"dataframe\">\n",
       "  <thead>\n",
       "    <tr style=\"text-align: right;\">\n",
       "      <th></th>\n",
       "      <th>States Affected</th>\n",
       "      <th>No. of Cases (Lab Confirmed)</th>\n",
       "      <th>No. of Cases (on admission)</th>\n",
       "      <th>No. Discharged</th>\n",
       "      <th>No. of Deaths</th>\n",
       "    </tr>\n",
       "  </thead>\n",
       "  <tbody>\n",
       "    <tr>\n",
       "      <th>0</th>\n",
       "      <td>Lagos</td>\n",
       "      <td>58743</td>\n",
       "      <td>1314</td>\n",
       "      <td>56990</td>\n",
       "      <td>439</td>\n",
       "    </tr>\n",
       "    <tr>\n",
       "      <th>1</th>\n",
       "      <td>FCT</td>\n",
       "      <td>19842</td>\n",
       "      <td>572</td>\n",
       "      <td>19104</td>\n",
       "      <td>166</td>\n",
       "    </tr>\n",
       "    <tr>\n",
       "      <th>2</th>\n",
       "      <td>Kaduna</td>\n",
       "      <td>9068</td>\n",
       "      <td>1</td>\n",
       "      <td>9002</td>\n",
       "      <td>65</td>\n",
       "    </tr>\n",
       "    <tr>\n",
       "      <th>3</th>\n",
       "      <td>Plateau</td>\n",
       "      <td>9060</td>\n",
       "      <td>1</td>\n",
       "      <td>9002</td>\n",
       "      <td>57</td>\n",
       "    </tr>\n",
       "    <tr>\n",
       "      <th>4</th>\n",
       "      <td>Rivers</td>\n",
       "      <td>7174</td>\n",
       "      <td>33</td>\n",
       "      <td>7040</td>\n",
       "      <td>101</td>\n",
       "    </tr>\n",
       "  </tbody>\n",
       "</table>\n",
       "</div>"
      ],
      "text/plain": [
       "  States Affected  No. of Cases (Lab Confirmed)  No. of Cases (on admission)  \\\n",
       "0           Lagos                         58743                         1314   \n",
       "1             FCT                         19842                          572   \n",
       "2          Kaduna                          9068                            1   \n",
       "3         Plateau                          9060                            1   \n",
       "4          Rivers                          7174                           33   \n",
       "\n",
       "   No. Discharged  No. of Deaths  \n",
       "0           56990            439  \n",
       "1           19104            166  \n",
       "2            9002             65  \n",
       "3            9002             57  \n",
       "4            7040            101  "
      ]
     },
     "execution_count": 104,
     "metadata": {},
     "output_type": "execute_result"
    }
   ],
   "source": [
    "NCDC[['No. of Cases (Lab Confirmed)',\n",
    "       'No. of Cases (on admission)', 'No. Discharged']]= NCDC[['No. of Cases (Lab Confirmed)',\n",
    "       'No. of Cases (on admission)', 'No. Discharged']].astype('int')\n",
    "NCDC.head()"
   ]
  },
  {
   "cell_type": "code",
   "execution_count": 105,
   "metadata": {},
   "outputs": [
    {
     "data": {
      "text/html": [
       "<div>\n",
       "<style scoped>\n",
       "    .dataframe tbody tr th:only-of-type {\n",
       "        vertical-align: middle;\n",
       "    }\n",
       "\n",
       "    .dataframe tbody tr th {\n",
       "        vertical-align: top;\n",
       "    }\n",
       "\n",
       "    .dataframe thead th {\n",
       "        text-align: right;\n",
       "    }\n",
       "</style>\n",
       "<table border=\"1\" class=\"dataframe\">\n",
       "  <thead>\n",
       "    <tr style=\"text-align: right;\">\n",
       "      <th></th>\n",
       "      <th>Date</th>\n",
       "      <th>Confirmed Cases</th>\n",
       "    </tr>\n",
       "  </thead>\n",
       "  <tbody>\n",
       "    <tr>\n",
       "      <th>471</th>\n",
       "      <td>2021-05-07</td>\n",
       "      <td>165340</td>\n",
       "    </tr>\n",
       "    <tr>\n",
       "      <th>472</th>\n",
       "      <td>2021-05-08</td>\n",
       "      <td>165370</td>\n",
       "    </tr>\n",
       "    <tr>\n",
       "      <th>473</th>\n",
       "      <td>2021-05-09</td>\n",
       "      <td>165419</td>\n",
       "    </tr>\n",
       "    <tr>\n",
       "      <th>474</th>\n",
       "      <td>2021-05-10</td>\n",
       "      <td>165468</td>\n",
       "    </tr>\n",
       "    <tr>\n",
       "      <th>475</th>\n",
       "      <td>2021-05-11</td>\n",
       "      <td>165515</td>\n",
       "    </tr>\n",
       "  </tbody>\n",
       "</table>\n",
       "</div>"
      ],
      "text/plain": [
       "          Date  Confirmed Cases\n",
       "471 2021-05-07           165340\n",
       "472 2021-05-08           165370\n",
       "473 2021-05-09           165419\n",
       "474 2021-05-10           165468\n",
       "475 2021-05-11           165515"
      ]
     },
     "execution_count": 105,
     "metadata": {},
     "output_type": "execute_result"
    }
   ],
   "source": [
    "confirmed_global_nigeria=confirmed_global.loc[confirmed_global['Country/Region']=='Nigeria']\n",
    "confirmed_global_nigeria=confirmed_global_nigeria.drop(['Province/State','Country/Region','Lat','Long'],1).T\n",
    "confirmed_global_nigeria.reset_index(inplace=True)\n",
    "confirmed_global_nigeria=confirmed_global_nigeria.rename(columns = {'index':'Date',200:'Confirmed Cases'})\n",
    "confirmed_global_nigeria['Date']=pd.to_datetime(confirmed_global_nigeria['Date'])\n",
    "confirmed_global_nigeria.tail()"
   ]
  },
  {
   "cell_type": "code",
   "execution_count": 106,
   "metadata": {},
   "outputs": [
    {
     "data": {
      "text/html": [
       "<div>\n",
       "<style scoped>\n",
       "    .dataframe tbody tr th:only-of-type {\n",
       "        vertical-align: middle;\n",
       "    }\n",
       "\n",
       "    .dataframe tbody tr th {\n",
       "        vertical-align: top;\n",
       "    }\n",
       "\n",
       "    .dataframe thead th {\n",
       "        text-align: right;\n",
       "    }\n",
       "</style>\n",
       "<table border=\"1\" class=\"dataframe\">\n",
       "  <thead>\n",
       "    <tr style=\"text-align: right;\">\n",
       "      <th></th>\n",
       "      <th>Date</th>\n",
       "      <th>Recovered Cases</th>\n",
       "    </tr>\n",
       "  </thead>\n",
       "  <tbody>\n",
       "    <tr>\n",
       "      <th>471</th>\n",
       "      <td>2021-05-07</td>\n",
       "      <td>155454</td>\n",
       "    </tr>\n",
       "    <tr>\n",
       "      <th>472</th>\n",
       "      <td>2021-05-08</td>\n",
       "      <td>156250</td>\n",
       "    </tr>\n",
       "    <tr>\n",
       "      <th>473</th>\n",
       "      <td>2021-05-09</td>\n",
       "      <td>156297</td>\n",
       "    </tr>\n",
       "    <tr>\n",
       "      <th>474</th>\n",
       "      <td>2021-05-10</td>\n",
       "      <td>156318</td>\n",
       "    </tr>\n",
       "    <tr>\n",
       "      <th>475</th>\n",
       "      <td>2021-05-11</td>\n",
       "      <td>156358</td>\n",
       "    </tr>\n",
       "  </tbody>\n",
       "</table>\n",
       "</div>"
      ],
      "text/plain": [
       "          Date  Recovered Cases\n",
       "471 2021-05-07           155454\n",
       "472 2021-05-08           156250\n",
       "473 2021-05-09           156297\n",
       "474 2021-05-10           156318\n",
       "475 2021-05-11           156358"
      ]
     },
     "execution_count": 106,
     "metadata": {},
     "output_type": "execute_result"
    }
   ],
   "source": [
    "recovered_global_nigeria=recovered_global.loc[recovered_global['Country/Region']=='Nigeria']\n",
    "recovered_global_nigeria=recovered_global_nigeria.drop(['Province/State','Country/Region','Lat','Long'],1).T\n",
    "recovered_global_nigeria.reset_index(inplace=True)\n",
    "recovered_global_nigeria=recovered_global_nigeria.rename(columns = {'index':'Date',185:'Recovered Cases'})\n",
    "recovered_global_nigeria['Date']=pd.to_datetime(recovered_global_nigeria['Date'])\n",
    "recovered_global_nigeria.tail()"
   ]
  },
  {
   "cell_type": "code",
   "execution_count": 107,
   "metadata": {},
   "outputs": [
    {
     "data": {
      "text/html": [
       "<div>\n",
       "<style scoped>\n",
       "    .dataframe tbody tr th:only-of-type {\n",
       "        vertical-align: middle;\n",
       "    }\n",
       "\n",
       "    .dataframe tbody tr th {\n",
       "        vertical-align: top;\n",
       "    }\n",
       "\n",
       "    .dataframe thead th {\n",
       "        text-align: right;\n",
       "    }\n",
       "</style>\n",
       "<table border=\"1\" class=\"dataframe\">\n",
       "  <thead>\n",
       "    <tr style=\"text-align: right;\">\n",
       "      <th></th>\n",
       "      <th>Date</th>\n",
       "      <th>Deaths</th>\n",
       "    </tr>\n",
       "  </thead>\n",
       "  <tbody>\n",
       "    <tr>\n",
       "      <th>471</th>\n",
       "      <td>2021-05-07</td>\n",
       "      <td>2065</td>\n",
       "    </tr>\n",
       "    <tr>\n",
       "      <th>472</th>\n",
       "      <td>2021-05-08</td>\n",
       "      <td>2065</td>\n",
       "    </tr>\n",
       "    <tr>\n",
       "      <th>473</th>\n",
       "      <td>2021-05-09</td>\n",
       "      <td>2065</td>\n",
       "    </tr>\n",
       "    <tr>\n",
       "      <th>474</th>\n",
       "      <td>2021-05-10</td>\n",
       "      <td>2065</td>\n",
       "    </tr>\n",
       "    <tr>\n",
       "      <th>475</th>\n",
       "      <td>2021-05-11</td>\n",
       "      <td>2065</td>\n",
       "    </tr>\n",
       "  </tbody>\n",
       "</table>\n",
       "</div>"
      ],
      "text/plain": [
       "          Date  Deaths\n",
       "471 2021-05-07    2065\n",
       "472 2021-05-08    2065\n",
       "473 2021-05-09    2065\n",
       "474 2021-05-10    2065\n",
       "475 2021-05-11    2065"
      ]
     },
     "execution_count": 107,
     "metadata": {},
     "output_type": "execute_result"
    }
   ],
   "source": [
    "deaths_global_nigeria=deaths_global.loc[deaths_global['Country/Region']=='Nigeria']\n",
    "deaths_global_nigeria=deaths_global_nigeria.drop(['Province/State','Country/Region','Lat','Long'],1).T\n",
    "deaths_global_nigeria.reset_index(inplace=True)\n",
    "deaths_global_nigeria=deaths_global_nigeria.rename(columns = {'index':'Date',200:'Deaths'})\n",
    "deaths_global_nigeria['Date']=pd.to_datetime(deaths_global_nigeria['Date'])\n",
    "deaths_global_nigeria.tail()"
   ]
  },
  {
   "cell_type": "markdown",
   "metadata": {},
   "source": [
    "## Analysis"
   ]
  },
  {
   "cell_type": "code",
   "execution_count": 108,
   "metadata": {},
   "outputs": [
    {
     "data": {
      "text/plain": [
       "<matplotlib.axes._subplots.AxesSubplot at 0x2ae32771348>"
      ]
     },
     "execution_count": 108,
     "metadata": {},
     "output_type": "execute_result"
    },
    {
     "data": {
      "image/png": "[encoded data removed]",
      "text/plain": [
       "<Figure size 648x504 with 1 Axes>"
      ]
     },
     "metadata": {},
     "output_type": "display_data"
    }
   ],
   "source": [
    "sns.set(rc={'figure.figsize':(9,7)})\n",
    "Top_10_Confirmed=NCDC.nlargest(10,['No. of Cases (Lab Confirmed)'])\n",
    "Top_10_Confirmed=Top_10_Confirmed.drop(['No. of Cases (on admission)','No. Discharged','No. of Deaths'],1)\n",
    "Top_10_Confirmed.plot.bar(x='States Affected',color='k')"
   ]
  },
  {
   "cell_type": "markdown",
   "metadata": {},
   "source": [
    "The figure above shows the Top 10 States affected by Covid 19 in Nigeria with Lagos being the epicenter, followed by the Federal Capital Territory (FCT, Abuja) and then Kaduna"
   ]
  },
  {
   "cell_type": "code",
   "execution_count": 109,
   "metadata": {},
   "outputs": [
    {
     "data": {
      "text/plain": [
       "<matplotlib.axes._subplots.AxesSubplot at 0x2ae37e35508>"
      ]
     },
     "execution_count": 109,
     "metadata": {},
     "output_type": "execute_result"
    },
    {
     "data": {
      "image/png": "[encoded data removed]",
      "text/plain": [
       "<Figure size 648x504 with 1 Axes>"
      ]
     },
     "metadata": {},
     "output_type": "display_data"
    }
   ],
   "source": [
    "sns.set(rc={'figure.figsize':(9,7)})\n",
    "Top_10_Discharged=NCDC.nlargest(10,['No. Discharged'])\n",
    "Top_10_Discharged=Top_10_Discharged.drop(['No. of Cases (Lab Confirmed)','No. of Cases (on admission)','No. of Deaths'],1)\n",
    "Top_10_Discharged.plot.bar(x='States Affected',color='k')"
   ]
  },
  {
   "cell_type": "markdown",
   "metadata": {},
   "source": [
    "The chart above shows the Recovery rate for states in Nigeria with Lagos, FCT and Kaduna as the top 3 states with the highest recovery rates."
   ]
  },
  {
   "cell_type": "code",
   "execution_count": 110,
   "metadata": {},
   "outputs": [
    {
     "data": {
      "text/plain": [
       "<matplotlib.axes._subplots.AxesSubplot at 0x2ae386141c8>"
      ]
     },
     "execution_count": 110,
     "metadata": {},
     "output_type": "execute_result"
    },
    {
     "data": {
      "image/png": "[encoded data removed]",
      "text/plain": [
       "<Figure size 648x504 with 1 Axes>"
      ]
     },
     "metadata": {},
     "output_type": "display_data"
    }
   ],
   "source": [
    "sns.set(rc={'figure.figsize':(9,7)})\n",
    "Top_10_Deaths=NCDC.nlargest(10,['No. of Deaths'])\n",
    "Top_10_Deaths=Top_10_Deaths.drop(['No. of Cases (Lab Confirmed)','No. of Cases (on admission)','No. Discharged'],1)\n",
    "Top_10_Deaths.plot.bar(x='States Affected',color='k')"
   ]
  },
  {
   "cell_type": "markdown",
   "metadata": {},
   "source": [
    "This plot shows the fatality rate in Nigeria. It is understandable that Lagos has a high death rate since it has a high number of confirmed cases. Also notice, that although FCT is the second most occuring, it is the third in terms of fatality rates. \n",
    "\n",
    "Also, Edo which is the 6th most affected state in terms of confirmed cases is the second highest in terms of death rates. This means that Edo State is lacking in terms of providing sufficient health care to increase the number of Recovery Cases. \n",
    "\n",
    "We can also notice that Plateau was not on the list of the top ten confirmed cases but it is in the list of the Top 10 Fatality Rate.  "
   ]
  },
  {
   "cell_type": "code",
   "execution_count": 111,
   "metadata": {},
   "outputs": [
    {
     "data": {
      "text/plain": [
       "<matplotlib.axes._subplots.AxesSubplot at 0x2ae38087248>"
      ]
     },
     "execution_count": 111,
     "metadata": {},
     "output_type": "execute_result"
    },
    {
     "data": {
      "image/png": "[encoded data removed]",
      "text/plain": [
       "<Figure size 648x504 with 1 Axes>"
      ]
     },
     "metadata": {},
     "output_type": "display_data"
    }
   ],
   "source": [
    "sns.set(rc={'figure.figsize':(9,7)})\n",
    "NCDC.plot.line(x='States Affected',y=['No. of Cases (Lab Confirmed)','No. Discharged','No. of Deaths'])"
   ]
  },
  {
   "cell_type": "code",
   "execution_count": 112,
   "metadata": {},
   "outputs": [
    {
     "data": {
      "text/plain": [
       "<matplotlib.axes._subplots.AxesSubplot at 0x2ae38125388>"
      ]
     },
     "execution_count": 112,
     "metadata": {},
     "output_type": "execute_result"
    },
    {
     "data": {
      "image/png": "[encoded data removed]",
      "text/plain": [
       "<Figure size 648x504 with 1 Axes>"
      ]
     },
     "metadata": {},
     "output_type": "display_data"
    }
   ],
   "source": [
    "sns.set(rc={'figure.figsize':(9,7)})\n",
    "NCDC1=NCDC[['No. of Cases (Lab Confirmed)','No. Discharged','No. of Deaths']]\n",
    "NCDC1.diff().plot.line()"
   ]
  },
  {
   "cell_type": "code",
   "execution_count": 113,
   "metadata": {},
   "outputs": [
    {
     "name": "stdout",
     "output_type": "stream",
     "text": [
      "The maximum infection rate for a day is: 165515 and the date it occured is 11/05/2021\n"
     ]
    }
   ],
   "source": [
    "confirmed_global_nigeria.max()['Date'].strftime('%d/%m/%Y')\n",
    "confirmed_global_nigeria.max()['Confirmed Cases']\n",
    "print (\"The maximum infection rate for a day is: {} and the date it occured is {}\".format(confirmed_global_nigeria.max()['Confirmed Cases'],confirmed_global_nigeria.max()['Date'].strftime('%d/%m/%Y'))\n",
    ")"
   ]
  },
  {
   "cell_type": "code",
   "execution_count": 114,
   "metadata": {},
   "outputs": [],
   "source": [
    "NCDC=NCDC.rename(columns={\"States Affected\":\"states\"})"
   ]
  },
  {
   "cell_type": "code",
   "execution_count": 115,
   "metadata": {},
   "outputs": [],
   "source": [
    "new=pd.merge(NCDC, covid_external, on=\"states\")\n",
    "#Top10Grouped=new.nlargest(10, ['No of Cases (Lab Confirmed)'])\n",
    "Top_10_Grouped=new.nlargest(10,['No. of Cases (Lab Confirmed)'])"
   ]
  },
  {
   "cell_type": "code",
   "execution_count": 116,
   "metadata": {},
   "outputs": [
    {
     "data": {
      "text/plain": [
       "<matplotlib.axes._subplots.AxesSubplot at 0x2ae387b4a08>"
      ]
     },
     "execution_count": 116,
     "metadata": {},
     "output_type": "execute_result"
    },
    {
     "data": {
      "image/png": "[encoded data removed]",
      "text/plain": [
       "<Figure size 648x504 with 1 Axes>"
      ]
     },
     "metadata": {},
     "output_type": "display_data"
    }
   ],
   "source": [
    "Top_10_Grouped.plot.line(x='states',y=['No. of Cases (Lab Confirmed)','Overall CCVI Index'])"
   ]
  },
  {
   "cell_type": "code",
   "execution_count": 117,
   "metadata": {},
   "outputs": [
    {
     "data": {
      "text/plain": [
       "<matplotlib.axes._subplots.AxesSubplot at 0x2ae38798ec8>"
      ]
     },
     "execution_count": 117,
     "metadata": {},
     "output_type": "execute_result"
    },
    {
     "data": {
      "image/png": "[encoded data removed]",
      "text/plain": [
       "<Figure size 648x504 with 1 Axes>"
      ]
     },
     "metadata": {},
     "output_type": "display_data"
    }
   ],
   "source": [
    "sns.regplot(x=new['No. of Cases (Lab Confirmed)'],y=new['Population Density'])"
   ]
  },
  {
   "cell_type": "code",
   "execution_count": 118,
   "metadata": {
    "scrolled": false
   },
   "outputs": [
    {
     "data": {
      "image/png": "[encoded data removed]",
      "text/plain": [
       "<Figure size 648x504 with 1 Axes>"
      ]
     },
     "metadata": {},
     "output_type": "display_data"
    }
   ],
   "source": [
    "RealGDP.plot.bar(x='Year')\n",
    "plt.legend(loc='lower left')\n",
    "plt.axhline(y=15890000.00, xmin=0, xmax=1.5,color='k')\n",
    "plt.show()"
   ]
  },
  {
   "cell_type": "markdown",
   "metadata": {},
   "source": [
    "The Plot above (approximated by the line), shows that the Second Quarter of 2020 (which is the time Covid 19 had the greatest impact in Nigeria), has the lowest GDP. With the first and third Quarters (which had less impact) greater. This shows the influence on Covid 19 on the Economy of Nigeria"
   ]
  },
  {
   "cell_type": "code",
   "execution_count": 119,
   "metadata": {},
   "outputs": [
    {
     "data": {
      "image/png": "[encoded data removed]",
      "text/plain": [
       "<Figure size 648x504 with 1 Axes>"
      ]
     },
     "metadata": {},
     "output_type": "display_data"
    }
   ],
   "source": [
    "#ax=plt.bar(RealGDP['Q2'])\n",
    "#ax.set_xticklabels(['zero','two','four','six'])\n",
    "plt.bar(x=RealGDP['Year'],height=RealGDP['Q2'])\n",
    "plt.show()"
   ]
  },
  {
   "cell_type": "code",
   "execution_count": 120,
   "metadata": {},
   "outputs": [
    {
     "data": {
      "image/png": "[encoded data removed]",
      "text/plain": [
       "<Figure size 648x504 with 1 Axes>"
      ]
     },
     "metadata": {},
     "output_type": "display_data"
    }
   ],
   "source": [
    "Budget.plot.bar(x='states')\n",
    "#plt.axhline(y=15890000.00, xmin=0, xmax=1.5,color='k')\n",
    "plt.show()"
   ]
  },
  {
   "cell_type": "markdown",
   "metadata": {},
   "source": [
    "In the plot above, the effect of Covid 19 on the Budget is demonstrated, with Lagos being the state with the greatest change followed by Cross River, Akwa Ibom and Rivers."
   ]
  }
 ],
 "metadata": {
  "kernelspec": {
   "display_name": "Python 3",
   "language": "python",
   "name": "python3"
  },
  "language_info": {
   "codemirror_mode": {
    "name": "ipython",
    "version": 3
   },
   "file_extension": ".py",
   "mimetype": "text/x-python",
   "name": "python",
   "nbconvert_exporter": "python",
   "pygments_lexer": "ipython3",
   "version": "3.7.4"
  }
 },
 "nbformat": 4,
 "nbformat_minor": 2
}
